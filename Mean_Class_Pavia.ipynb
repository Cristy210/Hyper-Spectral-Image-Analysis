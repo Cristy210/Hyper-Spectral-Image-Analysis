{
 "cells": [
  {
   "cell_type": "code",
   "execution_count": 1,
   "id": "b1dbb37d-f17a-4c18-a522-9dfeefe0dcaf",
   "metadata": {},
   "outputs": [],
   "source": [
    "import numpy as np, matplotlib.pyplot as plt, os"
   ]
  },
  {
   "cell_type": "code",
   "execution_count": 2,
   "id": "140b1c82-c211-4f8a-80b0-949ce5fa1d2b",
   "metadata": {},
   "outputs": [],
   "source": [
    "import scipy.io as sio"
   ]
  },
  {
   "cell_type": "code",
   "execution_count": 3,
   "id": "a0e37d63-2b3a-4346-8fd4-950a7d487bbd",
   "metadata": {},
   "outputs": [],
   "source": [
    "cwd = os.getcwd()"
   ]
  },
  {
   "cell_type": "code",
   "execution_count": 4,
   "id": "b8f48965-8b43-46ef-97a4-aa2925e8fa92",
   "metadata": {},
   "outputs": [],
   "source": [
    "Pavia_scene_dir = os.path.join(cwd, \"MAT Files\", \"Pavia.mat\")"
   ]
  },
  {
   "cell_type": "code",
   "execution_count": 5,
   "id": "ba69cd20-8c23-49dd-9606-a2995b5c72e9",
   "metadata": {},
   "outputs": [],
   "source": [
    "PaviaSc_gt_dir = os.path.join(cwd, \"GT Files\", \"Pavia_gt.mat\")"
   ]
  },
  {
   "cell_type": "code",
   "execution_count": 6,
   "id": "3f1b6adf-93a6-4a75-b012-0a1e908fdd71",
   "metadata": {},
   "outputs": [
    {
     "name": "stdout",
     "output_type": "stream",
     "text": [
      "/Users/suhasmathey/Hyper_Spectral Imaging/Hyper-Spectral-Image-Analysis/MAT Files/Pavia.mat\n"
     ]
    }
   ],
   "source": [
    "print(Pavia_scene_dir)"
   ]
  },
  {
   "cell_type": "code",
   "execution_count": 7,
   "id": "395fbf19-38a2-477d-85f7-032789973384",
   "metadata": {},
   "outputs": [],
   "source": [
    "PaviaSc_data_mat = sio.loadmat(Pavia_scene_dir)"
   ]
  },
  {
   "cell_type": "code",
   "execution_count": 8,
   "id": "aa6fb36b-a528-4f84-9560-31c629e57088",
   "metadata": {},
   "outputs": [],
   "source": [
    "PaviaSc_gt_mat = sio.loadmat(PaviaSc_gt_dir)"
   ]
  },
  {
   "cell_type": "markdown",
   "id": "3cd4fd46-dfc5-4ac4-b0b4-2d8b0bc90286",
   "metadata": {},
   "source": [
    "\n",
    "## Pavia - Ground Truth Data"
   ]
  },
  {
   "cell_type": "code",
   "execution_count": 9,
   "id": "8e461ec9-5cae-4a08-a1e7-5f2b5a7dc5f1",
   "metadata": {},
   "outputs": [
    {
     "data": {
      "text/plain": [
       "array([[0., 0., 0., ..., 0., 0., 0.],\n",
       "       [0., 0., 0., ..., 0., 0., 0.],\n",
       "       [0., 0., 0., ..., 0., 0., 0.],\n",
       "       ...,\n",
       "       [0., 0., 0., ..., 0., 0., 0.],\n",
       "       [0., 0., 0., ..., 0., 0., 0.],\n",
       "       [0., 0., 0., ..., 0., 0., 0.]])"
      ]
     },
     "execution_count": 9,
     "metadata": {},
     "output_type": "execute_result"
    }
   ],
   "source": [
    "PaviaSc_gt_mat['pavia_gt'].astype(np.float64)"
   ]
  },
  {
   "cell_type": "markdown",
   "id": "a1fc340d-3b74-43ea-b446-b8fb215bb18e",
   "metadata": {},
   "source": [
    "## Pavia Data Matrix"
   ]
  },
  {
   "cell_type": "code",
   "execution_count": 10,
   "id": "74f3e0a1-cf86-471c-b20e-aff820916ec4",
   "metadata": {},
   "outputs": [
    {
     "data": {
      "text/plain": [
       "array([[[ 854.,  601.,  350., ..., 3664., 3636., 3643.],\n",
       "        [ 527.,  642.,  575., ..., 3834., 3725., 3768.],\n",
       "        [ 374.,  322.,  179., ..., 4318., 4311., 4321.],\n",
       "        ...,\n",
       "        [ 367.,  432.,  461., ..., 2582., 2504., 2512.],\n",
       "        [ 261.,  311.,  366., ..., 2269., 2174., 2163.],\n",
       "        [1059.,  678.,  403., ..., 2245., 2135., 2136.]],\n",
       "\n",
       "       [[1060.,  909.,  596., ..., 2963., 2967., 2974.],\n",
       "        [ 707.,  757.,  646., ..., 3508., 3534., 3648.],\n",
       "        [ 143.,  419.,  417., ..., 4650., 4612., 4638.],\n",
       "        ...,\n",
       "        [ 465.,  547.,  537., ..., 3156., 3052., 3035.],\n",
       "        [ 884.,  615.,  401., ..., 2792., 2667., 2639.],\n",
       "        [ 756.,  401.,  213., ..., 2600., 2484., 2445.]],\n",
       "\n",
       "       [[ 532.,  545.,  594., ..., 1675., 1653., 1680.],\n",
       "        [ 523.,  491.,  321., ..., 3339., 3349., 3403.],\n",
       "        [ 816.,  681.,  369., ..., 4627., 4600., 4650.],\n",
       "        ...,\n",
       "        [ 408.,  539.,  436., ..., 3099., 3005., 3006.],\n",
       "        [ 393.,  447.,  476., ..., 3172., 3048., 3032.],\n",
       "        [ 798.,  615.,  489., ..., 3039., 2876., 2800.]],\n",
       "\n",
       "       ...,\n",
       "\n",
       "       [[ 689.,  560.,  701., ..., 1314., 1265., 1271.],\n",
       "        [ 497.,  785., 1029., ..., 1226., 1237., 1255.],\n",
       "        [ 947.,  634.,  587., ..., 1260., 1232., 1252.],\n",
       "        ...,\n",
       "        [ 812.,  483.,  220., ..., 1791., 1699., 1641.],\n",
       "        [ 840.,  538.,  494., ..., 1506., 1456., 1411.],\n",
       "        [ 187.,  305.,  343., ..., 1512., 1415., 1399.]],\n",
       "\n",
       "       [[ 895.,  586.,  635., ..., 1302., 1281., 1290.],\n",
       "        [ 211.,  373.,  733., ..., 1270., 1248., 1244.],\n",
       "        [ 971.,  881.,  701., ..., 1261., 1272., 1302.],\n",
       "        ...,\n",
       "        [ 802.,  635.,  481., ..., 2447., 2365., 2342.],\n",
       "        [ 328.,  656.,  680., ..., 2234., 2137., 2140.],\n",
       "        [ 897.,  677.,  411., ..., 2107., 1961., 1925.]],\n",
       "\n",
       "       [[ 610.,  673.,  592., ..., 1331., 1320., 1301.],\n",
       "        [ 961.,  642.,  491., ..., 1348., 1333., 1300.],\n",
       "        [ 443.,  641.,  779., ..., 1250., 1241., 1274.],\n",
       "        ...,\n",
       "        [ 592.,  589.,  659., ..., 2688., 2584., 2541.],\n",
       "        [ 406.,  416.,  395., ..., 2849., 2714., 2707.],\n",
       "        [ 631.,  405.,  473., ..., 2810., 2688., 2672.]]])"
      ]
     },
     "execution_count": 10,
     "metadata": {},
     "output_type": "execute_result"
    }
   ],
   "source": [
    "PaviaSc_data_mat['pavia'].astype(np.float64)"
   ]
  },
  {
   "cell_type": "code",
   "execution_count": 11,
   "id": "474c64bb-5af7-4cd6-bf82-f3ad2a1fd595",
   "metadata": {},
   "outputs": [],
   "source": [
    "data = PaviaSc_data_mat['pavia']"
   ]
  },
  {
   "cell_type": "code",
   "execution_count": 12,
   "id": "66345ece-5d4b-485b-a1a9-b4abd2a276da",
   "metadata": {},
   "outputs": [],
   "source": [
    "gt_data = PaviaSc_gt_mat['pavia_gt']"
   ]
  },
  {
   "cell_type": "code",
   "execution_count": 13,
   "id": "f9343059-76c6-4aed-9c7c-6239664e6b63",
   "metadata": {},
   "outputs": [],
   "source": [
    "indices = np.where(gt_data == 0)"
   ]
  },
  {
   "cell_type": "code",
   "execution_count": 14,
   "id": "ff455936-fe43-458d-825f-d42283faf02f",
   "metadata": {},
   "outputs": [],
   "source": [
    "bg_indices = list(zip(indices[0], indices[1]))"
   ]
  },
  {
   "cell_type": "markdown",
   "id": "32ea4178-957a-440c-8ce3-c8e8fdb81969",
   "metadata": {},
   "source": [
    "**Create a mask to remove the background pixels**"
   ]
  },
  {
   "cell_type": "code",
   "execution_count": 15,
   "id": "235d459e-0027-449f-9dd0-650e0ec0cef0",
   "metadata": {},
   "outputs": [],
   "source": [
    "mask = gt_data != 0 "
   ]
  },
  {
   "cell_type": "code",
   "execution_count": 16,
   "id": "aad1992d-2c2a-42f2-beb6-1afb7f11e8fc",
   "metadata": {},
   "outputs": [],
   "source": [
    "masked_data = data[mask, :].T"
   ]
  },
  {
   "cell_type": "code",
   "execution_count": 54,
   "id": "04266e48-2358-433a-ba1e-b598c4b3e23f",
   "metadata": {},
   "outputs": [
    {
     "data": {
      "text/plain": [
       "(1096, 715, 102)"
      ]
     },
     "execution_count": 54,
     "metadata": {},
     "output_type": "execute_result"
    }
   ],
   "source": [
    "data.shape"
   ]
  },
  {
   "cell_type": "code",
   "execution_count": 53,
   "id": "497b9a0b-cdf9-4cb6-b098-4b98ce1fc509",
   "metadata": {},
   "outputs": [
    {
     "data": {
      "text/plain": [
       "(102, 148152)"
      ]
     },
     "execution_count": 53,
     "metadata": {},
     "output_type": "execute_result"
    }
   ],
   "source": [
    "masked_data.shape"
   ]
  },
  {
   "cell_type": "code",
   "execution_count": 18,
   "id": "277a249b-1c53-4682-8eff-4b0e613d4790",
   "metadata": {},
   "outputs": [],
   "source": [
    "n_classes = np.max(gt_data) + 1"
   ]
  },
  {
   "cell_type": "code",
   "execution_count": 19,
   "id": "25bf378c-b899-43e8-90e2-5fd021214246",
   "metadata": {},
   "outputs": [],
   "source": [
    "cmap = plt.get_cmap(\"viridis\", n_classes)"
   ]
  },
  {
   "cell_type": "code",
   "execution_count": 20,
   "id": "9f0e70f3-8d9c-46e3-8781-55c004e1d661",
   "metadata": {},
   "outputs": [
    {
     "data": {
      "image/png": "[encoded data removed]",
      "text/html": [
       "<div style=\"vertical-align: middle;\"><strong>viridis</strong> </div><div class=\"cmap\"><img alt=\"viridis colormap\" title=\"viridis\" style=\"border: 1px solid #555;\" src=\"data:image/png;base64,iVBORw0KGgoAAAANSUhEUgAAAgAAAABACAYAAABsv8+/AAAAFnRFWHRUaXRsZQB2aXJpZGlzIGNvbG9ybWFwrE0mCwAAABx0RVh0RGVzY3JpcHRpb24AdmlyaWRpcyBjb2xvcm1hcAtjl3IAAAAwdEVYdEF1dGhvcgBNYXRwbG90bGliIHYzLjkuMSwgaHR0cHM6Ly9tYXRwbG90bGliLm9yZ1R0cwAAAAAydEVYdFNvZnR3YXJlAE1hdHBsb3RsaWIgdjMuOS4xLCBodHRwczovL21hdHBsb3RsaWIub3JnetLsJwAAAXVJREFUeJzt1rFJg2EUQFF/tUoj2AQMWCg4gwNYZAA3dwFHEEEkNnGJDx94z5nglnd72V7PF//I1dPjdMIy3w+30wnLfN5fTycs83XYphOWOR1+phOW2d99TCcs87x/n05Y5njzNp2wzHF3mk5Y6nI6AAD4ewYAAIIMAAAEGQAACDIAABBkAAAgyAAAQJABAIAgAwAAQQYAAIIMAAAEGQAACDIAABBkAAAgyAAAQJABAIAgAwAAQQYAAIIMAAAEGQAACDIAABBkAAAgyAAAQJABAIAgAwAAQQYAAIIMAAAEGQAACDIAABBkAAAgyAAAQJABAIAgAwAAQQYAAIIMAAAEGQAACDIAABBkAAAgyAAAQJABAIAgAwAAQQYAAIIMAAAEGQAACDIAABBkAAAgyAAAQJABAIAgAwAAQQYAAIIMAAAEGQAACDIAABBkAAAgyAAAQJABAIAgAwAAQQYAAIIMAAAEGQAACDIAABBkAAAgyAAAQNAvR6IMh3Xa0vIAAAAASUVORK5CYII=\"></div><div style=\"vertical-align: middle; max-width: 514px; display: flex; justify-content: space-between;\"><div style=\"float: left;\"><div title=\"#440154ff\" style=\"display: inline-block; width: 1em; height: 1em; margin: 0; vertical-align: middle; border: 1px solid #555; background-color: #440154ff;\"></div> under</div><div style=\"margin: 0 auto; display: inline-block;\">bad <div title=\"#00000000\" style=\"display: inline-block; width: 1em; height: 1em; margin: 0; vertical-align: middle; border: 1px solid #555; background-color: #00000000;\"></div></div><div style=\"float: right;\">over <div title=\"#fde725ff\" style=\"display: inline-block; width: 1em; height: 1em; margin: 0; vertical-align: middle; border: 1px solid #555; background-color: #fde725ff;\"></div></div>"
      ],
      "text/plain": [
       "<matplotlib.colors.ListedColormap at 0x122c4d910>"
      ]
     },
     "execution_count": 20,
     "metadata": {},
     "output_type": "execute_result"
    }
   ],
   "source": [
    "cmap"
   ]
  },
  {
   "cell_type": "code",
   "execution_count": 21,
   "id": "1cc5de1a-66bb-46f4-9343-a7c54caf73ce",
   "metadata": {},
   "outputs": [],
   "source": [
    "norm = plt.Normalize(vmin=0, vmax=n_classes)"
   ]
  },
  {
   "cell_type": "code",
   "execution_count": 22,
   "id": "ba4e0753-b180-41d0-bc10-f7ffc00c6d7a",
   "metadata": {},
   "outputs": [
    {
     "data": {
      "image/png": "[encoded data removed]",
      "text/plain": [
       "<Figure size 500x500 with 1 Axes>"
      ]
     },
     "metadata": {},
     "output_type": "display_data"
    }
   ],
   "source": [
    "plt.figure(figsize=(5, 5))\n",
    "plt.imshow(gt_data, cmap=cmap)\n",
    "plt.show()"
   ]
  },
  {
   "cell_type": "code",
   "execution_count": 23,
   "id": "676a32a3-9b91-454b-b7ed-4464e0cb769a",
   "metadata": {},
   "outputs": [
    {
     "data": {
      "text/plain": [
       "1096"
      ]
     },
     "execution_count": 23,
     "metadata": {},
     "output_type": "execute_result"
    }
   ],
   "source": [
    "data.shape[0]"
   ]
  },
  {
   "cell_type": "code",
   "execution_count": 24,
   "id": "7535f724-12e6-40b5-bedc-10010b5d5b24",
   "metadata": {},
   "outputs": [],
   "source": [
    "data_mat = data.reshape(-1, data.shape[2]).T"
   ]
  },
  {
   "cell_type": "code",
   "execution_count": 25,
   "id": "310f6e3e-8790-4365-ae36-50eadd4f5d34",
   "metadata": {},
   "outputs": [
    {
     "data": {
      "text/plain": [
       "(102, 783640)"
      ]
     },
     "execution_count": 25,
     "metadata": {},
     "output_type": "execute_result"
    }
   ],
   "source": [
    "data_mat.shape"
   ]
  },
  {
   "cell_type": "code",
   "execution_count": 26,
   "id": "50cd761e-3cc1-4621-a56e-ed1ed7e5205d",
   "metadata": {},
   "outputs": [],
   "source": [
    "gt_vec = gt_data.flatten()"
   ]
  },
  {
   "cell_type": "code",
   "execution_count": 27,
   "id": "0f1d600b-71cc-437f-8f22-28824e179e87",
   "metadata": {
    "scrolled": true
   },
   "outputs": [
    {
     "data": {
      "text/plain": [
       "array([0, 1, 2, 3, 4, 5, 6, 7, 8, 9], dtype=uint8)"
      ]
     },
     "execution_count": 27,
     "metadata": {},
     "output_type": "execute_result"
    }
   ],
   "source": [
    "np.sort(np.unique(gt_vec))"
   ]
  },
  {
   "cell_type": "code",
   "execution_count": 28,
   "id": "ea1ceaa4-018b-4c25-b263-caabfdeaff8e",
   "metadata": {},
   "outputs": [],
   "source": [
    "indices = np.where(gt_vec == 1)[0]"
   ]
  },
  {
   "cell_type": "code",
   "execution_count": 29,
   "id": "6029a870-ea50-43b7-b406-2e131988c3cd",
   "metadata": {},
   "outputs": [
    {
     "data": {
      "text/plain": [
       "65971"
      ]
     },
     "execution_count": 29,
     "metadata": {},
     "output_type": "execute_result"
    }
   ],
   "source": [
    "len(indices)"
   ]
  },
  {
   "cell_type": "code",
   "execution_count": 30,
   "id": "f8154f67-5bf1-415a-a6f6-9c0e3bf52b4c",
   "metadata": {},
   "outputs": [
    {
     "data": {
      "text/plain": [
       "162"
      ]
     },
     "execution_count": 30,
     "metadata": {},
     "output_type": "execute_result"
    }
   ],
   "source": [
    "indices[1]"
   ]
  },
  {
   "cell_type": "code",
   "execution_count": 31,
   "id": "99c7b374-416d-407d-a693-e202d52f7ea0",
   "metadata": {},
   "outputs": [],
   "source": [
    "rand_idx1 = np.random.choice(indices, 300, False)"
   ]
  },
  {
   "cell_type": "code",
   "execution_count": 32,
   "id": "acd28e61-95f9-4631-9604-a221d0c34566",
   "metadata": {},
   "outputs": [
    {
     "data": {
      "text/plain": [
       "300"
      ]
     },
     "execution_count": 32,
     "metadata": {},
     "output_type": "execute_result"
    }
   ],
   "source": [
    "len(rand_idx1)"
   ]
  },
  {
   "cell_type": "code",
   "execution_count": 33,
   "id": "52219bec-1844-4970-804b-ab2df50ebba0",
   "metadata": {},
   "outputs": [
    {
     "data": {
      "text/plain": [
       "array([ 69847,  94159,   5321, 184373, 271695, 118465, 245185, 158592,\n",
       "       249489,  95454,   6077, 171518, 155690,  99834, 218007,  48346,\n",
       "        45435, 159252,  71916, 114323, 134175, 177885, 200759,   8061,\n",
       "        97036, 109797, 242324,  44634, 129303, 144397, 119918,  75417,\n",
       "       180080,  96201,  66050, 104187, 139912,  43984,  78933, 122851,\n",
       "        46860,  89757, 124870,  99944,  42498, 170034, 163551,  70389,\n",
       "       116323,  96921, 108350,  97068, 140619, 208052, 173633, 208742,\n",
       "        31851,  46750,  65557, 165094, 127761,   2341, 241646, 109190,\n",
       "        89022, 202984,   6058,  83497, 104797, 140610, 156462,  30340,\n",
       "        70417, 243031,  69901,  87072, 242329, 107656, 192982, 263102,\n",
       "        77550,  29743, 205188,  82598, 177142, 254524, 258064, 204380,\n",
       "       253821, 103372, 107148,  94043,   3037, 210904, 291712, 127929,\n",
       "        77755, 197293,  45415,  76171, 239502,  15414, 114850, 180712,\n",
       "       238036, 141442, 105637, 116329,  58411,  29702, 152995,  67032,\n",
       "         1629, 104174, 112085,  83507,   5928,  44056,  28227, 143503,\n",
       "       112895,  47468, 203691, 226638, 238057, 215082,  43234,  48408,\n",
       "       187206, 190733,    915, 137245, 190018,  58385,  49827,  75404,\n",
       "       119347,  74096,  28282, 125700,  54760, 274558, 170723,  81925,\n",
       "       134168,  52604,  69719, 128514,  80543,  66794,  94900, 119966,\n",
       "        71329, 114140, 114183, 270261,  94104, 174346,  89213, 120556,\n",
       "        31755,  87785,  34791,  93305,  30337, 109180, 124336,  52688,\n",
       "       154928,  51876, 212999,  35326, 284553,  41911, 130664, 129231,\n",
       "        92006, 182223, 100719,  74012,  32561, 185752,  93349,  10318,\n",
       "        87605,  13173,  79068, 244484, 144300,  74884,  70534, 268824,\n",
       "        43218,  91844, 109296, 236648,  84801, 184371, 182935,  19630,\n",
       "       265231, 201493,  56830, 222333,  97711,  84012,  87690, 289566,\n",
       "       100505,  95635,  90420,  85589, 249495, 142765,  66149, 206601,\n",
       "       162188,   3949, 194375,   3045, 169311, 227260,  40485,  42564,\n",
       "       179995,  63989,  77508,  82046, 183697,  68230, 101913,  41056,\n",
       "       124204, 125686, 199426,  61866, 203024, 202291,  93544, 101435,\n",
       "       129178, 168609, 170071,  69685, 110641,  36205, 230943,  66105,\n",
       "       187156, 101938,  43379, 102673, 199422, 100572, 168543,  27621,\n",
       "       119123,  89109,  67034,  36859,  89203,  76292,  81145,  55366,\n",
       "       154322,  39808, 154425,  83353, 158725, 104251,  66049, 147264,\n",
       "       214469,  95574, 227312, 212983,  49061, 105574,  58966,  81846,\n",
       "        81271, 221578,  64798,  89881,  93409, 104145,  52664, 142090,\n",
       "       155145, 160083, 192289,  71935, 182980,  63318, 275259, 122055,\n",
       "       158627, 111999, 137955,  60389])"
      ]
     },
     "execution_count": 33,
     "metadata": {},
     "output_type": "execute_result"
    }
   ],
   "source": [
    "rand_idx1"
   ]
  },
  {
   "cell_type": "code",
   "execution_count": 34,
   "id": "6b994bb7-2099-4bd2-ad68-c96d98c7740a",
   "metadata": {},
   "outputs": [],
   "source": [
    "selec_data = data_mat[:, rand_idx1]"
   ]
  },
  {
   "cell_type": "code",
   "execution_count": 35,
   "id": "7b4b2c3c-20f4-45a3-b94b-d38265eaf040",
   "metadata": {},
   "outputs": [
    {
     "data": {
      "text/plain": [
       "(102, 300)"
      ]
     },
     "execution_count": 35,
     "metadata": {},
     "output_type": "execute_result"
    }
   ],
   "source": [
    "selec_data.shape"
   ]
  },
  {
   "cell_type": "code",
   "execution_count": 36,
   "id": "0e399298-aee6-46b9-91fc-8fa5a8726270",
   "metadata": {},
   "outputs": [],
   "source": [
    "mean_vector = np.mean(selec_data, axis=1)"
   ]
  },
  {
   "cell_type": "code",
   "execution_count": 37,
   "id": "33df411e-af0b-4315-84eb-d7ca7442b674",
   "metadata": {},
   "outputs": [
    {
     "data": {
      "text/plain": [
       "(102,)"
      ]
     },
     "execution_count": 37,
     "metadata": {},
     "output_type": "execute_result"
    }
   ],
   "source": [
    "mean_vector.shape"
   ]
  },
  {
   "cell_type": "markdown",
   "id": "88f52857-1814-4c7d-94d1-18ade9b1d820",
   "metadata": {},
   "source": [
    "## Mean Classifier"
   ]
  },
  {
   "cell_type": "code",
   "execution_count": 38,
   "id": "3e00ee84-2c7f-4989-be01-f311f2cc9836",
   "metadata": {},
   "outputs": [],
   "source": [
    "class MeanClassifier:\n",
    "    def __init__(self, mean_vectors):\n",
    "\n",
    "        \"\"\"\n",
    "        Parameters:\n",
    "            mean_vectors: List containing the mean vector for each valid label.\n",
    "        \"\"\"\n",
    "        \n",
    "        self.mean_vectors = mean_vectors"
   ]
  },
  {
   "cell_type": "code",
   "execution_count": 39,
   "id": "b8fb8fb8-a84c-42c5-9300-f695efb39bec",
   "metadata": {},
   "outputs": [],
   "source": [
    "def fit_mean(data, gt_data):\n",
    "\n",
    "    \"\"\"\n",
    "    Parameters:\n",
    "        data: A 3D array of shape (height, width, bands) representing the data cube\n",
    "        gt_data: A 2D array of shape (height, width) representing the ground truth labels, 0 reperesenting the background\n",
    "\n",
    "    Returns:\n",
    "        MeanClassifier: An instance of MeanClassifier with computed mean vectors\n",
    "    \"\"\"\n",
    "\n",
    "    data_mat = data.reshape(-1, data.shape[2]).T\n",
    "    gt_vec = gt_data.flatten()\n",
    "    gt_labels = np.sort(np.unique(gt_vec))\n",
    "    valid_labels = gt_labels[gt_labels != 0]\n",
    "\n",
    "    mean_vectors = []\n",
    "    for label in valid_labels:\n",
    "        indices = np.where(gt_vec == label)[0]\n",
    "\n",
    "        idx_size = min(3000, len(indices))\n",
    "\n",
    "        selected_indices = np.random.choice(indices, idx_size, False)\n",
    "        selected_points = data_mat[:, selected_indices]\n",
    "\n",
    "        mean_vector = np.mean(selected_points, axis=1)\n",
    "        mean_vectors.append(mean_vector)\n",
    "\n",
    "    return MeanClassifier(mean_vectors)"
   ]
  },
  {
   "cell_type": "code",
   "execution_count": 40,
   "id": "1906f2fb-f37a-471f-bd44-396019cb753c",
   "metadata": {},
   "outputs": [],
   "source": [
    "mean_classifier = fit_mean(data, gt_data)"
   ]
  },
  {
   "cell_type": "code",
   "execution_count": 41,
   "id": "f302cd56-76e8-414e-b8bd-f92b4b9b994f",
   "metadata": {},
   "outputs": [
    {
     "data": {
      "text/plain": [
       "array([ 537.208     ,  450.81866667,  362.19933333,  314.48933333,\n",
       "        295.43566667,  292.76466667,  295.13966667,  291.36633333,\n",
       "        284.709     ,  277.92866667,  270.65866667,  259.028     ,\n",
       "        250.92      ,  245.33633333,  239.777     ,  232.37      ,\n",
       "        232.496     ,  236.47666667,  242.35233333,  252.18566667,\n",
       "        267.04433333,  290.445     ,  317.457     ,  347.724     ,\n",
       "        384.251     ,  421.273     ,  446.51833333,  462.67033333,\n",
       "        473.18433333,  484.28666667,  495.00833333,  497.317     ,\n",
       "        490.12766667,  478.493     ,  461.433     ,  439.55133333,\n",
       "        416.289     ,  396.47233333,  381.60766667,  371.31466667,\n",
       "        362.17433333,  353.797     ,  348.34266667,  344.018     ,\n",
       "        339.55066667,  332.85633333,  323.29766667,  313.737     ,\n",
       "        308.645     ,  304.52166667,  303.20933333,  301.67866667,\n",
       "        297.14666667,  290.25166667,  279.67066667,  268.954     ,\n",
       "        260.27533333,  250.95166667,  240.863     ,  231.664     ,\n",
       "        226.77933333,  226.63266667,  231.17066667,  243.354     ,\n",
       "        270.49033333,  315.83166667,  383.643     ,  486.33166667,\n",
       "        627.915     ,  795.25666667,  979.46566667, 1183.472     ,\n",
       "       1416.70933333, 1684.55033333, 1970.54766667, 2272.35533333,\n",
       "       2561.77833333, 2830.414     , 3059.133     , 3248.94333333,\n",
       "       3408.766     , 3522.38166667, 3554.499     , 3475.836     ,\n",
       "       3490.93033333, 3586.51833333, 3653.69633333, 3669.81      ,\n",
       "       3671.76666667, 3678.90966667, 3694.355     , 3682.76166667,\n",
       "       3660.77133333, 3661.687     , 3667.479     , 3650.38766667,\n",
       "       3617.07966667, 3575.884     , 3546.04566667, 3526.565     ,\n",
       "       3491.422     , 3505.509     ])"
      ]
     },
     "execution_count": 41,
     "metadata": {},
     "output_type": "execute_result"
    }
   ],
   "source": [
    "mean_classifier.mean_vectors[1]"
   ]
  },
  {
   "cell_type": "code",
   "execution_count": 72,
   "id": "4a943f5e-315d-4b3c-a63f-5da43bcdae03",
   "metadata": {},
   "outputs": [],
   "source": [
    "def classify(data, classifier):\n",
    "    \"\"\"\n",
    "    Parameters:\n",
    "        data: A 2D array of shape (bands, n_pixels), where each column is a pixel\n",
    "        classifier: An object with attribute 'mean_vectors', a list of 1D numpy arrays\n",
    "        \n",
    "    Returns:\n",
    "        pixel_classes: A 1D array of length n_pixels containing predicted pixel labels \n",
    "    \"\"\"\n",
    "\n",
    "    Dnorms = np.sum(np.square(data), axis=0)\n",
    "    resids = []\n",
    "    for Uc in classifier.mean_vectors:\n",
    "        innerprod = np.dot(data.T, Uc)\n",
    "        Uc_norm = np.sum(np.square(Uc), axis=0)\n",
    "\n",
    "        distances = np.sqrt(np.abs(Dnorms - 2 * innerprod + Uc_norm))\n",
    "        resids.append(distances)\n",
    "\n",
    "\n",
    "    resids = np.array(resids)\n",
    "    pixel_classes = np.argmin(resids, axis=0) + 1\n",
    "\n",
    "    return pixel_classes"
   ]
  },
  {
   "cell_type": "code",
   "execution_count": 73,
   "id": "6312dda9-1a76-4ea1-b6a1-dc1539877717",
   "metadata": {},
   "outputs": [],
   "source": [
    "mean_class_labels = classify(masked_data, mean_classifier)"
   ]
  },
  {
   "cell_type": "code",
   "execution_count": 74,
   "id": "fd44d661-6a14-4962-bfe9-0df87d76318b",
   "metadata": {},
   "outputs": [
    {
     "data": {
      "text/plain": [
       "array([1, 2, 3, 4, 5, 6, 7, 8, 9])"
      ]
     },
     "execution_count": 74,
     "metadata": {},
     "output_type": "execute_result"
    }
   ],
   "source": [
    "np.unique(mean_class_labels)"
   ]
  },
  {
   "cell_type": "code",
   "execution_count": 75,
   "id": "6ce7bed3-7c75-4a55-9e2c-c5b81aece21c",
   "metadata": {},
   "outputs": [
    {
     "data": {
      "text/plain": [
       "(148152,)"
      ]
     },
     "execution_count": 75,
     "metadata": {},
     "output_type": "execute_result"
    }
   ],
   "source": [
    "mean_class_labels.shape"
   ]
  },
  {
   "cell_type": "code",
   "execution_count": 76,
   "id": "596a540c-7ba1-4788-b783-3ff06744f5cb",
   "metadata": {},
   "outputs": [],
   "source": [
    "clustermap = np.zeros(data.shape[:2])"
   ]
  },
  {
   "cell_type": "code",
   "execution_count": 77,
   "id": "ed5b56db-1dcc-4ba5-b736-285522ff5a20",
   "metadata": {},
   "outputs": [],
   "source": [
    "clustermap[mask] = mean_class_labels"
   ]
  },
  {
   "cell_type": "code",
   "execution_count": 78,
   "id": "c981ecd7-5e05-4bb6-8149-292ec5fd49cb",
   "metadata": {},
   "outputs": [
    {
     "data": {
      "text/plain": [
       "array([0., 1., 2., 3., 4., 5., 6., 7., 8., 9.])"
      ]
     },
     "execution_count": 78,
     "metadata": {},
     "output_type": "execute_result"
    }
   ],
   "source": [
    "np.unique(clustermap)"
   ]
  },
  {
   "cell_type": "code",
   "execution_count": null,
   "id": "0c5157a4-82e2-4fbe-803e-b0971490202f",
   "metadata": {},
   "outputs": [],
   "source": []
  },
  {
   "cell_type": "code",
   "execution_count": null,
   "id": "936a2b95-1427-461e-88a1-1ec7932ea580",
   "metadata": {},
   "outputs": [],
   "source": []
  }
 ],
 "metadata": {
  "kernelspec": {
   "display_name": "Python (Summer)",
   "language": "python",
   "name": "summer"
  },
  "language_info": {
   "codemirror_mode": {
    "name": "ipython",
    "version": 3
   },
   "file_extension": ".py",
   "mimetype": "text/x-python",
   "name": "python",
   "nbconvert_exporter": "python",
   "pygments_lexer": "ipython3",
   "version": "3.9.18"
  }
 },
 "nbformat": 4,
 "nbformat_minor": 5
}
