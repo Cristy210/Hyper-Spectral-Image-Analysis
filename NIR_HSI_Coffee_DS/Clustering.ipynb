{
 "cells": [
  {
   "cell_type": "code",
   "execution_count": 1,
   "metadata": {},
   "outputs": [],
   "source": [
    "import os\n",
    "import numpy as np\n",
    "from PIL import Image\n",
    "import glob"
   ]
  },
  {
   "cell_type": "code",
   "execution_count": 6,
   "metadata": {},
   "outputs": [
    {
     "name": "stdout",
     "output_type": "stream",
     "text": [
      "dict_keys(['coffee', 'rice', 'sugar_salt_flour', 'sugar_salt_flour_contamination', 'yatsuhashi'])\n"
     ]
    }
   ],
   "source": [
    "dataset = {}\n",
    "for target in sorted(glob.glob(\"./data/*\")):\n",
    "    target_name = target.split('/')[-1]\n",
    "    filenames = sorted(glob.glob(target + '/*'))\n",
    "    dataset[target_name] = np.array([np.array(Image.open(f)) for f in filenames]).transpose(1, 2, 0)\n",
    "    \n",
    "print(dataset.keys())\n"
   ]
  },
  {
   "cell_type": "code",
   "execution_count": 13,
   "metadata": {},
   "outputs": [
    {
     "name": "stdout",
     "output_type": "stream",
     "text": [
      "(256, 192, 96)\n"
     ]
    }
   ],
   "source": [
    "print(dataset['sugar_salt_flour'].shape)"
   ]
  },
  {
   "cell_type": "code",
   "execution_count": null,
   "metadata": {},
   "outputs": [],
   "source": []
  }
 ],
 "metadata": {
  "kernelspec": {
   "display_name": "Summer",
   "language": "python",
   "name": "python3"
  },
  "language_info": {
   "codemirror_mode": {
    "name": "ipython",
    "version": 3
   },
   "file_extension": ".py",
   "mimetype": "text/x-python",
   "name": "python",
   "nbconvert_exporter": "python",
   "pygments_lexer": "ipython3",
   "version": "3.9.18"
  }
 },
 "nbformat": 4,
 "nbformat_minor": 2
}
