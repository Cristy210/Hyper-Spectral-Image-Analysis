{
 "cells": [
  {
   "cell_type": "code",
   "execution_count": 21,
   "id": "b1dbb37d-f17a-4c18-a522-9dfeefe0dcaf",
   "metadata": {},
   "outputs": [],
   "source": [
    "import numpy as np, matplotlib.pyplot as plt, os"
   ]
  },
  {
   "cell_type": "code",
   "execution_count": 29,
   "id": "140b1c82-c211-4f8a-80b0-949ce5fa1d2b",
   "metadata": {},
   "outputs": [],
   "source": [
    "import scipy.io as sio"
   ]
  },
  {
   "cell_type": "code",
   "execution_count": 26,
   "id": "a0e37d63-2b3a-4346-8fd4-950a7d487bbd",
   "metadata": {},
   "outputs": [],
   "source": [
    "cwd = os.getcwd()"
   ]
  },
  {
   "cell_type": "code",
   "execution_count": 27,
   "id": "b8f48965-8b43-46ef-97a4-aa2925e8fa92",
   "metadata": {},
   "outputs": [],
   "source": [
    "Pavia_scene_dir = os.path.join(cwd, \"MAT Files\", \"Pavia.mat\")"
   ]
  },
  {
   "cell_type": "code",
   "execution_count": 33,
   "id": "ba69cd20-8c23-49dd-9606-a2995b5c72e9",
   "metadata": {},
   "outputs": [],
   "source": [
    "PaviaSc_gt_dir = os.path.join(cwd, \"GT Files\", \"Pavia_gt.mat\")"
   ]
  },
  {
   "cell_type": "code",
   "execution_count": 28,
   "id": "3f1b6adf-93a6-4a75-b012-0a1e908fdd71",
   "metadata": {},
   "outputs": [
    {
     "name": "stdout",
     "output_type": "stream",
     "text": [
      "/Users/suhasmathey/Hyper_Spectral Imaging/Hyper-Spectral-Image-Analysis/MAT Files/Pavia.mat\n"
     ]
    }
   ],
   "source": [
    "print(Pavia_scene_dir)"
   ]
  },
  {
   "cell_type": "code",
   "execution_count": 34,
   "id": "395fbf19-38a2-477d-85f7-032789973384",
   "metadata": {},
   "outputs": [],
   "source": [
    "PaviaSc_data_mat = sio.loadmat(Pavia_scene_dir)"
   ]
  },
  {
   "cell_type": "code",
   "execution_count": 44,
   "id": "aa6fb36b-a528-4f84-9560-31c629e57088",
   "metadata": {},
   "outputs": [],
   "source": [
    "PaviaSc_gt_mat = sio.loadmat(PaviaSc_gt_dir)"
   ]
  },
  {
   "cell_type": "code",
   "execution_count": 55,
   "id": "8e461ec9-5cae-4a08-a1e7-5f2b5a7dc5f1",
   "metadata": {},
   "outputs": [
    {
     "data": {
      "text/plain": [
       "array([[0, 0, 0, ..., 0, 0, 0],\n",
       "       [0, 0, 0, ..., 0, 0, 0],\n",
       "       [0, 0, 0, ..., 0, 0, 0],\n",
       "       ...,\n",
       "       [0, 0, 0, ..., 0, 0, 0],\n",
       "       [0, 0, 0, ..., 0, 0, 0],\n",
       "       [0, 0, 0, ..., 0, 0, 0]], dtype=uint8)"
      ]
     },
     "execution_count": 55,
     "metadata": {},
     "output_type": "execute_result"
    }
   ],
   "source": [
    "PaviaSc_gt_mat['pavia_gt']"
   ]
  },
  {
   "cell_type": "code",
   "execution_count": 56,
   "id": "74f3e0a1-cf86-471c-b20e-aff820916ec4",
   "metadata": {},
   "outputs": [
    {
     "data": {
      "text/plain": [
       "array([[[ 854,  601,  350, ..., 3664, 3636, 3643],\n",
       "        [ 527,  642,  575, ..., 3834, 3725, 3768],\n",
       "        [ 374,  322,  179, ..., 4318, 4311, 4321],\n",
       "        ...,\n",
       "        [ 367,  432,  461, ..., 2582, 2504, 2512],\n",
       "        [ 261,  311,  366, ..., 2269, 2174, 2163],\n",
       "        [1059,  678,  403, ..., 2245, 2135, 2136]],\n",
       "\n",
       "       [[1060,  909,  596, ..., 2963, 2967, 2974],\n",
       "        [ 707,  757,  646, ..., 3508, 3534, 3648],\n",
       "        [ 143,  419,  417, ..., 4650, 4612, 4638],\n",
       "        ...,\n",
       "        [ 465,  547,  537, ..., 3156, 3052, 3035],\n",
       "        [ 884,  615,  401, ..., 2792, 2667, 2639],\n",
       "        [ 756,  401,  213, ..., 2600, 2484, 2445]],\n",
       "\n",
       "       [[ 532,  545,  594, ..., 1675, 1653, 1680],\n",
       "        [ 523,  491,  321, ..., 3339, 3349, 3403],\n",
       "        [ 816,  681,  369, ..., 4627, 4600, 4650],\n",
       "        ...,\n",
       "        [ 408,  539,  436, ..., 3099, 3005, 3006],\n",
       "        [ 393,  447,  476, ..., 3172, 3048, 3032],\n",
       "        [ 798,  615,  489, ..., 3039, 2876, 2800]],\n",
       "\n",
       "       ...,\n",
       "\n",
       "       [[ 689,  560,  701, ..., 1314, 1265, 1271],\n",
       "        [ 497,  785, 1029, ..., 1226, 1237, 1255],\n",
       "        [ 947,  634,  587, ..., 1260, 1232, 1252],\n",
       "        ...,\n",
       "        [ 812,  483,  220, ..., 1791, 1699, 1641],\n",
       "        [ 840,  538,  494, ..., 1506, 1456, 1411],\n",
       "        [ 187,  305,  343, ..., 1512, 1415, 1399]],\n",
       "\n",
       "       [[ 895,  586,  635, ..., 1302, 1281, 1290],\n",
       "        [ 211,  373,  733, ..., 1270, 1248, 1244],\n",
       "        [ 971,  881,  701, ..., 1261, 1272, 1302],\n",
       "        ...,\n",
       "        [ 802,  635,  481, ..., 2447, 2365, 2342],\n",
       "        [ 328,  656,  680, ..., 2234, 2137, 2140],\n",
       "        [ 897,  677,  411, ..., 2107, 1961, 1925]],\n",
       "\n",
       "       [[ 610,  673,  592, ..., 1331, 1320, 1301],\n",
       "        [ 961,  642,  491, ..., 1348, 1333, 1300],\n",
       "        [ 443,  641,  779, ..., 1250, 1241, 1274],\n",
       "        ...,\n",
       "        [ 592,  589,  659, ..., 2688, 2584, 2541],\n",
       "        [ 406,  416,  395, ..., 2849, 2714, 2707],\n",
       "        [ 631,  405,  473, ..., 2810, 2688, 2672]]], dtype=uint16)"
      ]
     },
     "execution_count": 56,
     "metadata": {},
     "output_type": "execute_result"
    }
   ],
   "source": [
    "PaviaSc_data_mat['pavia']"
   ]
  },
  {
   "cell_type": "code",
   "execution_count": 57,
   "id": "474c64bb-5af7-4cd6-bf82-f3ad2a1fd595",
   "metadata": {},
   "outputs": [],
   "source": [
    "data = PaviaSc_data_mat['pavia']"
   ]
  },
  {
   "cell_type": "code",
   "execution_count": 59,
   "id": "66345ece-5d4b-485b-a1a9-b4abd2a276da",
   "metadata": {},
   "outputs": [],
   "source": [
    "gt_data = PaviaSc_gt_mat['pavia_gt']"
   ]
  },
  {
   "cell_type": "code",
   "execution_count": null,
   "id": "f9343059-76c6-4aed-9c7c-6239664e6b63",
   "metadata": {},
   "outputs": [],
   "source": []
  }
 ],
 "metadata": {
  "kernelspec": {
   "display_name": "Python (Summer)",
   "language": "python",
   "name": "summer"
  },
  "language_info": {
   "codemirror_mode": {
    "name": "ipython",
    "version": 3
   },
   "file_extension": ".py",
   "mimetype": "text/x-python",
   "name": "python",
   "nbconvert_exporter": "python",
   "pygments_lexer": "ipython3",
   "version": "3.9.18"
  }
 },
 "nbformat": 4,
 "nbformat_minor": 5
}
